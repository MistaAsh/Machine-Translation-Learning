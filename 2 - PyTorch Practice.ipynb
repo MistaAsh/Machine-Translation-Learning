{
 "cells": [
  {
   "cell_type": "code",
   "execution_count": null,
   "metadata": {},
   "outputs": [],
   "source": [
    "import torch"
   ]
  },
  {
   "cell_type": "code",
   "execution_count": null,
   "metadata": {},
   "outputs": [],
   "source": [
    "# Linear Regression in 1D\n",
    "from torch.nn import Linear \n",
    "torch.manual_seed(1)\n",
    "\n",
    "model = Linear(in_features=1, out_features=1, bias=True)\n",
    "print(list(model.parameters()))\n",
    "\n",
    "X = torch.tensor([[1.0], [2.0], [3.0]], dtype=torch.float)\n",
    "yhat = model(X)\n"
   ]
  }
 ],
 "metadata": {
  "language_info": {
   "name": "python"
  },
  "orig_nbformat": 4
 },
 "nbformat": 4,
 "nbformat_minor": 2
}
